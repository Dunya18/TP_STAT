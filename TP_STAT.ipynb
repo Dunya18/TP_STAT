{
  "nbformat": 4,
  "nbformat_minor": 0,
  "metadata": {
    "colab": {
      "provenance": [],
      "toc_visible": true,
      "authorship_tag": "ABX9TyNwXIGE0Y/3Y2/SdJVvja3m",
      "include_colab_link": true
    },
    "kernelspec": {
      "name": "python3",
      "display_name": "Python 3"
    },
    "language_info": {
      "name": "python"
    }
  },
  "cells": [
    {
      "cell_type": "markdown",
      "metadata": {
        "id": "view-in-github",
        "colab_type": "text"
      },
      "source": [
        "<a href=\"https://colab.research.google.com/github/Dunya18/TP_STAT/blob/main/TP_STAT.ipynb\" target=\"_parent\"><img src=\"https://colab.research.google.com/assets/colab-badge.svg\" alt=\"Open In Colab\"/></a>"
      ]
    },
    {
      "cell_type": "markdown",
      "source": [
        "# TP1 : STATISTIQUES"
      ],
      "metadata": {
        "id": "ZMK91mybShum"
      }
    },
    {
      "cell_type": "markdown",
      "source": [
        "**Import** **library**"
      ],
      "metadata": {
        "id": "ZKOXHR4SSoxW"
      }
    },
    {
      "cell_type": "code",
      "source": [
        "import numpy as np\n",
        "import pandas as pd\n",
        "\n",
        "import matplotlib.pyplot as plt\n",
        "import seaborn as sns"
      ],
      "metadata": {
        "id": "SHDlebpSS2nM"
      },
      "execution_count": 1,
      "outputs": []
    },
    {
      "cell_type": "markdown",
      "source": [
        "# Exercice 01 \n",
        "\n",
        "Avec la liste de données suivantes\n",
        "1.1, 1.7, 1.7, 1.1, 1.1, 1.4, 1.1, 1.4, 1.0, 1.2, 1.1, 1.1, 1.1, 1.1, 1.1, 1.8, 1.6, 1.1, 1.2, 1.5,\n",
        "1.3, 1.1, 1.3, 1.1, 1.1\n",
        "\n",
        "obtenir :\n",
        "\n",
        "a) le tableau de fréquence;\n",
        "\n",
        "b) le tableau de fréquences relatives;\n",
        "\n",
        "c) le tableau de fréquences cumulées;"
      ],
      "metadata": {
        "id": "YT3TzxGfS-4J"
      }
    },
    {
      "cell_type": "code",
      "source": [
        "data = pd.Series([1.1, 1.7, 1.7, 1.1, 1.1, 1.4, 1.1, 1.4, 1.0, 1.2, 1.1, 1.1, 1.1, 1.1, 1.1, 1.8, 1.6, 1.1, 1.2, 1.5, 1.3, 1.1, 1.3, 1.1, 1.1])"
      ],
      "metadata": {
        "id": "5vXMYufqTNGM"
      },
      "execution_count": 13,
      "outputs": []
    },
    {
      "cell_type": "code",
      "source": [
        "pd.cut(data, bins = [0.9,1.1,1.3,1.5,1.7,1.9]).value_counts().sort_index()"
      ],
      "metadata": {
        "colab": {
          "base_uri": "https://localhost:8080/"
        },
        "id": "g_gSBhlfTu8o",
        "outputId": "9c398676-2f01-40c1-84eb-303d903f6ed4"
      },
      "execution_count": 6,
      "outputs": [
        {
          "output_type": "execute_result",
          "data": {
            "text/plain": [
              "(0.9, 1.1]    14\n",
              "(1.1, 1.3]     4\n",
              "(1.3, 1.5]     3\n",
              "(1.5, 1.7]     3\n",
              "(1.7, 1.9]     1\n",
              "dtype: int64"
            ]
          },
          "metadata": {},
          "execution_count": 6
        }
      ]
    },
    {
      "cell_type": "code",
      "source": [
        "pd.cut(data, bins =[0.9,1.1,1.3,1.5,1.7,1.9]).value_counts(normalize=True).sort_index()"
      ],
      "metadata": {
        "colab": {
          "base_uri": "https://localhost:8080/"
        },
        "id": "a00npz86Urs-",
        "outputId": "e9c35419-422b-47ad-fd9c-f4ad932b1f50"
      },
      "execution_count": 8,
      "outputs": [
        {
          "output_type": "execute_result",
          "data": {
            "text/plain": [
              "(0.9, 1.1]    0.56\n",
              "(1.1, 1.3]    0.16\n",
              "(1.3, 1.5]    0.12\n",
              "(1.5, 1.7]    0.12\n",
              "(1.7, 1.9]    0.04\n",
              "dtype: float64"
            ]
          },
          "metadata": {},
          "execution_count": 8
        }
      ]
    },
    {
      "cell_type": "code",
      "source": [
        "pd.cut(data, bins = [0.9,1.1,1.3,1.5,1.7,1.9]).value_counts().sort_index().cumsum()"
      ],
      "metadata": {
        "colab": {
          "base_uri": "https://localhost:8080/"
        },
        "id": "eUOI6OqKVKQ0",
        "outputId": "d1efb0f5-f1b5-47aa-c066-659421a5345a"
      },
      "execution_count": 9,
      "outputs": [
        {
          "output_type": "execute_result",
          "data": {
            "text/plain": [
              "(0.9, 1.1]    14\n",
              "(1.1, 1.3]    18\n",
              "(1.3, 1.5]    21\n",
              "(1.5, 1.7]    24\n",
              "(1.7, 1.9]    25\n",
              "dtype: int64"
            ]
          },
          "metadata": {},
          "execution_count": 9
        }
      ]
    },
    {
      "cell_type": "markdown",
      "source": [
        "# Exercise 2 \n",
        "\n",
        "Avec la liste de données suivantes\n",
        "\n",
        "\"O\", \"A\", \"B\", \"O\", \"O\", \"O\", \"O\", \"O\", \"AB\", \"O\", \"O\", \"O\", \"O\", \"B\", \"O\",\n",
        "\"B\", \"O\", \"A\", \"A\", \"A\", \"O\", \"A\", \"A\", \"B\", \"AB\", \"A\", \"B\", \"A\", \"A\", \"A\", \"A\",\n",
        "\"O\", \"A\", \"O\", \"O\", \"A\", \"A\", \"O\", \"O\", \"A\", \"O\", \"O\", \"O\", \"O\", \"A\", \"A\", \"A\",\n",
        "\"A\", \"A\", \"AB\"\n",
        "\n",
        "\n",
        "obtenir le tableau de fréquences"
      ],
      "metadata": {
        "id": "7c59tAPSVip5"
      }
    },
    {
      "cell_type": "code",
      "source": [
        "data2 = pd.Series([\"O\", \"A\", \"B\", \"O\", \"O\", \"O\", \"O\", \"O\", \"AB\", \"O\", \"O\", \"O\", \"O\", \"B\", \"O\", \"B\", \"O\", \"A\", \"A\", \"A\", \"O\", \"A\", \"A\", \"B\", \"AB\", \"A\", \"B\", \"A\", \"A\", \"A\", \"A\", \"O\", \"A\", \"O\", \"O\", \"A\", \"A\", \"O\", \"O\", \"A\", \"O\", \"O\", \"O\", \"O\", \"A\", \"A\", \"A\", \"A\", \"A\", \"AB\"])"
      ],
      "metadata": {
        "id": "m4IpIh77VoPE"
      },
      "execution_count": 11,
      "outputs": []
    },
    {
      "cell_type": "code",
      "source": [
        "data2.value_counts().sort_index()"
      ],
      "metadata": {
        "colab": {
          "base_uri": "https://localhost:8080/"
        },
        "id": "shG5bSS9V0zf",
        "outputId": "34284f86-9c7f-45d3-8403-ba8e712c0873"
      },
      "execution_count": 12,
      "outputs": [
        {
          "output_type": "execute_result",
          "data": {
            "text/plain": [
              "A     20\n",
              "AB     3\n",
              "B      5\n",
              "O     22\n",
              "dtype: int64"
            ]
          },
          "metadata": {},
          "execution_count": 12
        }
      ]
    },
    {
      "cell_type": "markdown",
      "source": [
        "# Exercise 3 \n",
        "\n",
        "Avec la liste de données de l’exercice 1 obtenir l’histogramme."
      ],
      "metadata": {
        "id": "HLMTMHZKWLH0"
      }
    },
    {
      "cell_type": "code",
      "source": [
        "sns.displot(data, bins = [1.0,1.2,1.4,1.6,1.8,2.0]);"
      ],
      "metadata": {
        "colab": {
          "base_uri": "https://localhost:8080/",
          "height": 369
        },
        "id": "AJ_YJARDWQ75",
        "outputId": "1f7d2b22-74de-4c87-bbcf-a99504f09020"
      },
      "execution_count": 17,
      "outputs": [
        {
          "output_type": "display_data",
          "data": {
            "text/plain": [
              "<Figure size 360x360 with 1 Axes>"
            ],
            "image/png": "[encoded data removed]"
          },
          "metadata": {
            "needs_background": "light"
          }
        }
      ]
    },
    {
      "cell_type": "markdown",
      "source": [
        "# Exercise 4 \n",
        "\n",
        "Avec la liste de données de l’exercice 2 obtenir le diagramme de Pareto"
      ],
      "metadata": {
        "id": "RQ_o7zIHXk5L"
      }
    },
    {
      "cell_type": "code",
      "source": [
        "import collections\n",
        "\n",
        "diction = collections.Counter(data2)\n",
        "diction\n",
        "\n",
        "dict_ord = dict(sorted(diction.items(), key = lambda x:x[1], reverse = True))\n",
        "dict_ord"
      ],
      "metadata": {
        "colab": {
          "base_uri": "https://localhost:8080/"
        },
        "id": "LgCa65HgXm8K",
        "outputId": "9c0feafe-2a38-41f0-fe78-47d708e97201"
      },
      "execution_count": 21,
      "outputs": [
        {
          "output_type": "execute_result",
          "data": {
            "text/plain": [
              "{'O': 22, 'A': 20, 'B': 5, 'AB': 3}"
            ]
          },
          "metadata": {},
          "execution_count": 21
        }
      ]
    },
    {
      "cell_type": "code",
      "source": [
        "names = list(dict_ord.keys())\n",
        "names"
      ],
      "metadata": {
        "colab": {
          "base_uri": "https://localhost:8080/"
        },
        "id": "DyiCD2sUYQVP",
        "outputId": "562cca83-0264-4988-e4c0-fa249a887dce"
      },
      "execution_count": 22,
      "outputs": [
        {
          "output_type": "execute_result",
          "data": {
            "text/plain": [
              "['O', 'A', 'B', 'AB']"
            ]
          },
          "metadata": {},
          "execution_count": 22
        }
      ]
    },
    {
      "cell_type": "code",
      "source": [
        "freq = list(dict_ord.values())\n",
        "freq"
      ],
      "metadata": {
        "colab": {
          "base_uri": "https://localhost:8080/"
        },
        "id": "9sXF4v6mYadi",
        "outputId": "a58114b5-b95c-4218-9010-8104b54d937b"
      },
      "execution_count": 23,
      "outputs": [
        {
          "output_type": "execute_result",
          "data": {
            "text/plain": [
              "[22, 20, 5, 3]"
            ]
          },
          "metadata": {},
          "execution_count": 23
        }
      ]
    },
    {
      "cell_type": "code",
      "source": [
        "x_pos = np.arange(len(names))\n",
        "plt.bar(range(len(dict_ord)), freq, color=['green', 'red', 'yellow', 'blue'], tick_label = names, width = 1.0, edgecolor = \"black\");"
      ],
      "metadata": {
        "colab": {
          "base_uri": "https://localhost:8080/",
          "height": 265
        },
        "id": "PA6mG09yZJ32",
        "outputId": "efbc5a05-234e-4d3d-fcb8-ec6a8d2cbd4d"
      },
      "execution_count": 29,
      "outputs": [
        {
          "output_type": "display_data",
          "data": {
            "text/plain": [
              "<Figure size 432x288 with 1 Axes>"
            ],
            "image/png": "[encoded data removed]"
          },
          "metadata": {
            "needs_background": "light"
          }
        }
      ]
    }
  ]
}